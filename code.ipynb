{
 "cells": [
  {
   "cell_type": "code",
   "execution_count": 1,
   "metadata": {},
   "outputs": [
    {
     "ename": "",
     "evalue": "",
     "output_type": "error",
     "traceback": [
      "\u001b[1;31mFailed to start the Kernel. \n",
      "\u001b[1;31mUnable to start Kernel 'Python 3.12.8' due to a timeout waiting for the ports to get used. \n",
      "\u001b[1;31mView Jupyter <a href='command:jupyter.viewOutput'>log</a> for further details."
     ]
    }
   ],
   "source": [
    "import requests\n",
    "from bs4 import BeautifulSoup\n",
    "import pandas as pd\n",
    "import datetime \n"
   ]
  },
  {
   "cell_type": "code",
   "execution_count": 2,
   "metadata": {},
   "outputs": [],
   "source": [
    "# Step 1: Send a GET request to the specified URL\n",
    "# Define the URL\n",
    "url = \"https://yts.mx/browse-movies/0/all/all/0/featured/0/all\"\n",
    "response = requests.get(url)\n"
   ]
  },
  {
   "cell_type": "code",
   "execution_count": 3,
   "metadata": {},
   "outputs": [],
   "source": [
    "# Step 2: Parse the HTML content of the response using BeautifulSoup\n",
    "soup = BeautifulSoup(response.text, 'html.parser')"
   ]
  },
  {
   "cell_type": "code",
   "execution_count": null,
   "metadata": {},
   "outputs": [],
   "source": [
    "# Step 3: Save the HTML content to a text file for reference\n",
    "with open(\"yts.txt\", \"w\", encoding=\"utf-8\") as file:\n",
    "    file.write(str(soup))\n",
    "print(\"Page content has been saved to yts.txt\")"
   ]
  },
  {
   "cell_type": "code",
   "execution_count": 5,
   "metadata": {},
   "outputs": [],
   "source": [
    "# Step 4: Extract movie data from the parsed HTML and store it in a list\n",
    "movies_data = []\n",
    "for movie in soup.find_all('div', class_='browse-movie-wrap col-xs-10 col-sm-4 col-md-5 col-lg-4'):\n",
    "    Title = movie.find('a', class_='browse-movie-title').text\n",
    "    Genre = movie.find_all('h4')[1].text\n",
    "    Rating = movie.find('h4', class_='rating').text.split(' / ')[0]\n",
    "    Year = movie.find('div', class_='browse-movie-year').text\n",
    "    movies_data.append([Title, Genre, Rating, Year])"
   ]
  },
  {
   "cell_type": "code",
   "execution_count": 6,
   "metadata": {},
   "outputs": [],
   "source": [
    "# Step 5: Create a Pandas DataFrame from the extracted movie data\n",
    "df = pd.DataFrame(movies_data, columns=['Title', 'Genre', 'Rating', 'Year'])"
   ]
  },
  {
   "cell_type": "code",
   "execution_count": null,
   "metadata": {},
   "outputs": [],
   "source": [
    "# Display the resulting DataFrame\n",
    "df"
   ]
  },
  {
   "cell_type": "code",
   "execution_count": 8,
   "metadata": {},
   "outputs": [],
   "source": [
    "# save to excel file \n",
    "df.to_excel('output.xlsx', index=False)"
   ]
  },
  {
   "cell_type": "code",
   "execution_count": 9,
   "metadata": {},
   "outputs": [],
   "source": [
    "\n",
    "# Get the current date, time, and day\n",
    "now = datetime.datetime.now()\n",
    "date_time_day = now.strftime(\"%Y-%m-%d, %H:%M:%S, %A\")\n",
    "# Convert the DataFrame to a markdown table\n",
    "markdown_table = df.to_markdown()\n",
    "\n",
    "# Write the date, time, day, and markdown table to the report.md file\n",
    "with open('report.md', 'a') as f:\n",
    "    f.write(f'\\n## Date: {date_time_day}\\n')\n",
    "    f.write('\\n## DataFrame\\n')\n",
    "    f.write(markdown_table)"
   ]
  }
 ],
 "metadata": {
  "kernelspec": {
   "display_name": "Python 3",
   "language": "python",
   "name": "python3"
  },
  "language_info": {
   "codemirror_mode": {
    "name": "ipython",
    "version": 3
   },
   "file_extension": ".py",
   "mimetype": "text/x-python",
   "name": "python",
   "nbconvert_exporter": "python",
   "pygments_lexer": "ipython3",
   "version": "3.12.8"
  }
 },
 "nbformat": 4,
 "nbformat_minor": 2
}
